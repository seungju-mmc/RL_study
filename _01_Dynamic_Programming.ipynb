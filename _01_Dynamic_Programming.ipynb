{
 "cells": [
  {
   "cell_type": "markdown",
   "metadata": {},
   "source": [
    "Hello, Index here!!\n",
    "\n",
    "0. Configuration of environment : Gym--FrozenLake Slippery or NotSlippery--\n",
    "1. Policy Iteration\n",
    "2. Value Iteration\n",
    "3. Experiment < discount_factor and theta>"
   ]
  },
  {
   "cell_type": "code",
   "execution_count": 1,
   "metadata": {},
   "outputs": [],
   "source": [
    "import gym\n",
    "import numpy as np\n",
    "import matplotlib.pyplot as plt\n",
    "import seaborn as sns\n",
    "%matplotlib inline"
   ]
  },
  {
   "cell_type": "markdown",
   "metadata": {},
   "source": [
    "0. Configuration of environment : Gym--FrozenLake Slippery or NotSlippery"
   ]
  },
  {
   "cell_type": "code",
   "execution_count": 2,
   "metadata": {},
   "outputs": [],
   "source": [
    "gym.envs.register(\n",
    "id=\"FrozenLakeNotSlippery-v0\",\n",
    "entry_point=\"gym.envs.toy_text:FrozenLakeEnv\",\n",
    "kwargs={'map_name':'4x4', \"is_slippery\":False},\n",
    "max_episode_steps=100,)\n",
    "gym.envs.register(\n",
    "id=\"FrozenLakeSlippery-v0\",\n",
    "entry_point=\"gym.envs.toy_text:FrozenLakeEnv\",\n",
    "kwargs={'map_name':'4x4', \"is_slippery\":True},\n",
    "max_episode_steps=100,)"
   ]
  },
  {
   "cell_type": "markdown",
   "metadata": {},
   "source": [
    "1&2. Policy Iteration & Value Iteration"
   ]
  },
  {
   "cell_type": "code",
   "execution_count": 3,
   "metadata": {},
   "outputs": [],
   "source": [
    "class DP:\n",
    "    def __init__(self,iteration=100, theta= 0.01, discount_factor=1, dynamic=\"stochastic\", mode=\"policy_iteration\"):\n",
    "        # ----------------------------------parameter-----------------------------#\n",
    "        self.iteration = iteration\n",
    "        self.theta = theta\n",
    "        self.discount_factor = discount_factor\n",
    "        self.dynamic = dynamic\n",
    "        self.mode = mode\n",
    "        \n",
    "        self.state_size = 16\n",
    "        self.action_size = 4\n",
    "        \n",
    "        \n",
    "        mode_args = ['policy_iteration', 'value_iteration', 'GPI']\n",
    "        if self.mode not in mode_args:\n",
    "            raise RuntimeError('mode may be wrong. you should choose one of them,\"policy_iteration\", \"value_iteration\" and \"GPI\"')\n",
    "        # -----------------------------------env-----------------------------------#\n",
    "        \n",
    "        if self.dynamic == \"stochastic\":\n",
    "            self.env = gym.make(\"FrozenLakeSlippery-v0\")\n",
    "        elif self.dynamic == \"deterministic\":\n",
    "            self.env = gym.make(\"FrozenLakeNotSlippery-v0\")\n",
    "        else:\n",
    "            raise RuntimeError(\"dynamic may be wrong!!\")\n",
    "        \n",
    "        # -------------------------------value fucntion-----------------------------#\n",
    "        \n",
    "        self.state_value = {}\n",
    "        self.action_value = {}\n",
    "        \n",
    "    \n",
    "    def get_action(self,state):\n",
    "        q_value = self.action_value[state]\n",
    "        maximum = np.max(q_value)\n",
    "        action = np.where(q_value==maximum)[0]\n",
    "        prob_a = 1/len(action)\n",
    "        \n",
    "        return action, prob_a\n",
    "        \n",
    "        \n",
    "    def initialize(self):\n",
    "        for i in range(self.state_size):\n",
    "            self.state_value[i] = 0\n",
    "            self.action_value[i] = np.zeros(self.action_size)\n",
    "        \n",
    "    def reset_state(self):\n",
    "        for i in range(self.state_size):\n",
    "            self.state_value[i] = 0\n",
    "    def print_status(self):\n",
    "        V = np.zeros(self.state_size)\n",
    "        for i in range(self.state_size):\n",
    "            V[i] = self.state_value[i]\n",
    "        \n",
    "        sns.heatmap(V.reshape(4,4), annot=True,cbar=False)\n",
    "    def policy_evalution(self):\n",
    "        while(1):\n",
    "            prev_state = self.state_value.copy()\n",
    "            delta = 0\n",
    "            for state in range(self.state_size):\n",
    "                prime_sv = 0\n",
    "                action, prob_a = self.get_action(state)\n",
    "                for act in action:\n",
    "                    po_obs = self.env.P[state][act] # ([], [], ...)\n",
    "                    for ob in po_obs:\n",
    "                        prob, next_state, reward, done = ob\n",
    "                        if done:\n",
    "                            prime_sv += prob *prob_a * reward\n",
    "                        else:\n",
    "                            prime_sv += prob *prob_a * (reward + self.discount_factor * prev_state[next_state])\n",
    "                \n",
    "                self.state_value[state] = prime_sv\n",
    "                delta_temp = abs(prime_sv - prev_state[state])\n",
    "                if (delta_temp > delta):\n",
    "                    delta = delta_temp\n",
    "            if ( delta < self.theta)or(self.mode == 'value_iteration'):\n",
    "                break\n",
    "    def policy_update(self):\n",
    "        for state in range(self.state_size):\n",
    "            for action in range(self.action_size):\n",
    "                po_obs = self.env.P[state][action]\n",
    "                q_value = 0\n",
    "                for ob in po_obs:\n",
    "                    prob, next_state, reward, done = ob\n",
    "                    if done:\n",
    "                        q_value += prob * reward\n",
    "                    else:\n",
    "                        q_value += prob * (reward + self.discount_factor * self.state_value[next_state])\n",
    "                \n",
    "                self.action_value[state][action] = q_value\n",
    "            \n",
    "        \n",
    "    \n",
    "    def run(self):\n",
    "        self.initialize()\n",
    "        for i in range(self.iteration):\n",
    "            self.policy_evalution()\n",
    "            self.policy_update()\n",
    "                \n",
    "            if (self.mode ==\"policy_iteration\") and (i < (self.iteration-1)):\n",
    "                self.reset_state()\n",
    "        \n",
    "        self.print_status()"
   ]
  },
  {
   "cell_type": "markdown",
   "metadata": {},
   "source": [
    "arguments\n",
    "\n",
    "    1.iteration: default:100\n",
    "    \n",
    "    2.theta : the precision of evluation, default:0.01\n",
    "    \n",
    "    3.discount_factor: default:1\n",
    "    \n",
    "    4.dynamic:\"deterministic\" or \"stochastic\", default:\"stochastic\"\n",
    "    \n",
    "    5.mode:\"policy_iteration\" or \"value_iteration\", default:\"policy_iteration\"\n",
    "    "
   ]
  },
  {
   "cell_type": "code",
   "execution_count": 14,
   "metadata": {},
   "outputs": [
    {
     "data": {
      "image/png": "[encoded data removed]",
      "text/plain": [
       "<Figure size 432x288 with 1 Axes>"
      ]
     },
     "metadata": {
      "needs_background": "light"
     },
     "output_type": "display_data"
    }
   ],
   "source": [
    "policy_iteration = DP(iteration=50,theta=0.0001)\n",
    "policy_iteration.run()"
   ]
  },
  {
   "cell_type": "code",
   "execution_count": 15,
   "metadata": {
    "scrolled": true
   },
   "outputs": [
    {
     "data": {
      "image/png": "[encoded data removed]",
      "text/plain": [
       "<Figure size 432x288 with 1 Axes>"
      ]
     },
     "metadata": {
      "needs_background": "light"
     },
     "output_type": "display_data"
    }
   ],
   "source": [
    "value_iteration = DP(iteration=1000,mode=\"value_iteration\")\n",
    "value_iteration.run()"
   ]
  },
  {
   "cell_type": "markdown",
   "metadata": {},
   "source": [
    "both alogorithms lead to the same state value function."
   ]
  },
  {
   "cell_type": "markdown",
   "metadata": {},
   "source": [
    "3.Experiment"
   ]
  },
  {
   "cell_type": "markdown",
   "metadata": {},
   "source": [
    "1. Deterministic vs Stochastic\n",
    "    - all states except terminal states have the same value 1 in the deterministic environment. if policy is optimal, regardless of the state, they will reach the goal. and then, they get goal reward. but in the stochastic environment, even though policy is optimal, it can not reach the goal"
   ]
  },
  {
   "cell_type": "code",
   "execution_count": 78,
   "metadata": {},
   "outputs": [
    {
     "data": {
      "image/png": "[encoded data removed]",
      "text/plain": [
       "<Figure size 432x288 with 1 Axes>"
      ]
     },
     "metadata": {
      "needs_background": "light"
     },
     "output_type": "display_data"
    }
   ],
   "source": [
    "det_case = DP(dynamic=\"deterministic\")\n",
    "det_case.run()"
   ]
  },
  {
   "cell_type": "code",
   "execution_count": 79,
   "metadata": {},
   "outputs": [
    {
     "data": {
      "image/png": "[encoded data removed]",
      "text/plain": [
       "<Figure size 432x288 with 1 Axes>"
      ]
     },
     "metadata": {
      "needs_background": "light"
     },
     "output_type": "display_data"
    }
   ],
   "source": [
    "det_case = DP(dynamic=\"stochastic\")\n",
    "det_case.run()"
   ]
  }
 ],
 "metadata": {
  "kernelspec": {
   "display_name": "Python 3",
   "language": "python",
   "name": "python3"
  },
  "language_info": {
   "codemirror_mode": {
    "name": "ipython",
    "version": 3
   },
   "file_extension": ".py",
   "mimetype": "text/x-python",
   "name": "python",
   "nbconvert_exporter": "python",
   "pygments_lexer": "ipython3",
   "version": "3.6.12"
  }
 },
 "nbformat": 4,
 "nbformat_minor": 4
}
