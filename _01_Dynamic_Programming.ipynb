{
 "cells": [
  {
   "cell_type": "markdown",
   "metadata": {},
   "source": [
    "Hello, Index here!!\n",
    "\n",
    "0. Configuration of environment : Gym--FrozenLake Slippery or NotSlippery--\n",
    "1. Policy Iteration\n",
    "2. Value Iteration\n",
    "3. Experiment "
   ]
  },
  {
   "cell_type": "code",
   "execution_count": 1,
   "metadata": {},
   "outputs": [],
   "source": [
    "import gym\n",
    "import numpy as np\n",
    "import matplotlib.pyplot as plt\n",
    "import seaborn as sns\n",
    "import copy\n",
    "\n",
    "%matplotlib inline"
   ]
  },
  {
   "cell_type": "markdown",
   "metadata": {},
   "source": [
    "0. Configuration of environment : Gym--FrozenLake Slippery or NotSlippery"
   ]
  },
  {
   "cell_type": "code",
   "execution_count": 3,
   "metadata": {},
   "outputs": [],
   "source": [
    "gym.envs.register(\n",
    "id=\"FrozenLakeNotSlippery-v0\",\n",
    "entry_point=\"gym.envs.toy_text:FrozenLakeEnv\",\n",
    "kwargs={'map_name':'4x4', \"is_slippery\":False},\n",
    "max_episode_steps=100,)\n",
    "gym.envs.register(\n",
    "id=\"FrozenLakeSlippery-v0\",\n",
    "entry_point=\"gym.envs.toy_text:FrozenLakeEnv\",\n",
    "kwargs={'map_name':'4x4', \"is_slippery\":True},\n",
    "max_episode_steps=100,)"
   ]
  },
  {
   "cell_type": "markdown",
   "metadata": {},
   "source": [
    "1&2. Policy Iteration & Value Iteration"
   ]
  },
  {
   "cell_type": "code",
   "execution_count": 4,
   "metadata": {},
   "outputs": [],
   "source": [
    "class DP:\n",
    "    \n",
    "    def __init__(self,theta= 0.0001, discount_factor=1, dynamic=\"stochastic\", mode=\"policy_iteration\"):\n",
    "        # ----------------------------------parameter-----------------------------#\n",
    "        self.theta = theta\n",
    "        self.discount_factor = discount_factor\n",
    "        self.dynamic = dynamic\n",
    "        self.mode = mode\n",
    "        self.delta = 0\n",
    "        \n",
    "        self.state_size = 16\n",
    "        self.action_size = 4\n",
    "        \n",
    "        \n",
    "        mode_args = ['policy_iteration', 'value_iteration', 'GPI']\n",
    "        if self.mode not in mode_args:\n",
    "            raise RuntimeError('mode may be wrong. you should choose one of them,\"policy_iteration\", \"value_iteration\" and \"GPI\"')\n",
    "        # -----------------------------------env-----------------------------------#\n",
    "        \n",
    "        if self.dynamic == \"stochastic\":\n",
    "            self.env = gym.make(\"FrozenLakeSlippery-v0\")\n",
    "        elif self.dynamic == \"deterministic\":\n",
    "            self.env = gym.make(\"FrozenLakeNotSlippery-v0\")\n",
    "        else:\n",
    "            raise RuntimeError(\"dynamic may be wrong!!\")\n",
    "        \n",
    "        # -------------------------------value fucntion-----------------------------#\n",
    "        \n",
    "        self.state_value = {}\n",
    "        self.action_value = {}\n",
    "        \n",
    "    \n",
    "    def get_action(self,state):\n",
    "        \"\"\"\n",
    "        input : state [int]\n",
    "        output : action, []\n",
    "                 probability of action, float\n",
    "        \n",
    "        if elements of q_values are same each other, then the best action can be various even if the policy is greedy method.\n",
    "        so we must take account into the action probability.\n",
    "        if the number of candidate action is larger than 1, then the action probability must be divided the number.\n",
    "        \n",
    "        \"\"\"\n",
    "        q_value = self.action_value[state]\n",
    "        maximum = np.max(q_value)\n",
    "        action = np.where(q_value==maximum)[0]\n",
    "        prob_a = 1/len(action)\n",
    "        \n",
    "        return action, prob_a\n",
    "        \n",
    "        \n",
    "    def initialize(self):\n",
    "        for i in range(self.state_size):\n",
    "            self.state_value[i] = 0\n",
    "            self.action_value[i] = np.zeros(self.action_size)\n",
    "        \n",
    "    def reset_state(self):\n",
    "        \"\"\"\n",
    "        if mode is value iteration, this method can not be invoked.\n",
    "        \"\"\"\n",
    "        for i in range(self.state_size):\n",
    "            self.state_value[i] = 0\n",
    "    def print_status(self):\n",
    "        V = np.zeros(self.state_size)\n",
    "        for i in range(self.state_size):\n",
    "            V[i] = self.state_value[i]\n",
    "        \n",
    "        sns.heatmap(V.reshape(4,4), annot=True,cbar=False)\n",
    "    def policy_evalution(self):\n",
    "        \"\"\"\n",
    "        policy evaluation is the process which is performed in both value iteration and policy iteration.\n",
    "        The only difference is whether to converge or not when this method is invoked.\n",
    "        of course, both algorithm leads to convergence of state value in the end. In local evalution, however, only policy iteration\n",
    "        gets convergence of state value.\n",
    "        \"\"\"\n",
    "        while(1):\n",
    "            prev_state = self.state_value.copy()\n",
    "            delta = 0\n",
    "            for state in range(self.state_size):\n",
    "                prev_state[state] = self.state_value[state]\n",
    "                prime_sv = 0\n",
    "                action, prob_a = self.get_action(state)\n",
    "                for act in action:\n",
    "                    po_obs = self.env.P[state][act] # ([], [], ...)\n",
    "                    for ob in po_obs:\n",
    "                        prob, next_state, reward, done = ob\n",
    "                        if done:\n",
    "                            prime_sv += prob *prob_a * reward\n",
    "                        else:\n",
    "                            prime_sv += prob *prob_a * (reward + self.discount_factor * prev_state[next_state])\n",
    "                \n",
    "                self.state_value[state] = prime_sv\n",
    "                delta_temp = abs(prime_sv - prev_state[state])\n",
    "            \n",
    "                if (delta_temp > delta):\n",
    "                    delta = delta_temp\n",
    "                    self.delta = delta\n",
    "            if ( delta < self.theta)or(self.mode == 'value_iteration'):\n",
    "                break\n",
    "    def policy_update(self):\n",
    "        \"\"\"\n",
    "        In greedy method, the policy can be viewed as state-action value. by using this method, update the q_value based on state value.\n",
    "        \"\"\"\n",
    "        self.prev_action_value ={}\n",
    "        for state in range(self.state_size):\n",
    "            self.prev_action_value[state] = self.action_value[state].copy()\n",
    "            for action in range(self.action_size):\n",
    "                po_obs = self.env.P[state][action]\n",
    "                q_value = 0\n",
    "                for ob in po_obs:\n",
    "                    prob, next_state, reward, done = ob\n",
    "                    if done:\n",
    "                        q_value += prob * reward\n",
    "                    else:\n",
    "                        q_value += prob * (reward + self.discount_factor * self.state_value[next_state])\n",
    "                \n",
    "                self.action_value[state][action] = q_value\n",
    "    \n",
    "    def check_convergence(self):\n",
    "        \n",
    "        converge = True \n",
    "        for state in range(self.state_size):\n",
    "            maximum = np.max(self.prev_action_value[state])\n",
    "            prev_action = np.where(self.prev_action_value[state]==maximum)[0].tolist()\n",
    "            \n",
    "            maximum = np.max(self.action_value[state])\n",
    "            action = np.where(self.action_value[state]==maximum)[0].tolist()\n",
    "            \n",
    "            \n",
    "            converge = action == prev_action\n",
    "            if converge == False:\n",
    "\n",
    "                return converge\n",
    "        \n",
    "        return converge\n",
    "            \n",
    "    \n",
    "    def run(self):\n",
    "        self.initialize()\n",
    "        while(1):\n",
    "            self.policy_evalution()\n",
    "            self.policy_update()\n",
    "            if self.check_convergence() and (self.mode ==\"policy_iteration\"):\n",
    "                break\n",
    "                \n",
    "            if (self.mode ==\"policy_iteration\"):\n",
    "                self.reset_state() # it must be inited because the policy which would be evaluated is changed.\n",
    "            \n",
    "            if (self.mode == \"value_iteration\") and (self.delta < self.theta):\n",
    "                break\n",
    "            \n",
    "        \n",
    "        self.print_status()"
   ]
  },
  {
   "cell_type": "markdown",
   "metadata": {},
   "source": [
    "arguments\n",
    "\n",
    "    1.theta : the precision of evluation, default:0.0001\n",
    "    \n",
    "    2.discount_factor: default:1\n",
    "    \n",
    "    3.dynamic:\"deterministic\" or \"stochastic\", default:\"stochastic\"\n",
    "    \n",
    "    4.mode:\"policy_iteration\" or \"value_iteration\", default:\"policy_iteration\"\n",
    "    "
   ]
  },
  {
   "cell_type": "code",
   "execution_count": 5,
   "metadata": {},
   "outputs": [
    {
     "data": {
      "image/png": "[encoded data removed]",
      "text/plain": [
       "<Figure size 432x288 with 1 Axes>"
      ]
     },
     "metadata": {
      "needs_background": "light"
     },
     "output_type": "display_data"
    }
   ],
   "source": [
    "policy_iteration = DP(theta=0.01)\n",
    "policy_iteration.run()"
   ]
  },
  {
   "cell_type": "code",
   "execution_count": 6,
   "metadata": {
    "scrolled": true
   },
   "outputs": [
    {
     "data": {
      "image/png": "[encoded data removed]",
      "text/plain": [
       "<Figure size 432x288 with 1 Axes>"
      ]
     },
     "metadata": {
      "needs_background": "light"
     },
     "output_type": "display_data"
    }
   ],
   "source": [
    "value_iteration = DP(theta=0.0001,mode=\"value_iteration\")\n",
    "value_iteration.run()"
   ]
  },
  {
   "cell_type": "markdown",
   "metadata": {},
   "source": [
    "both alogorithms lead to the different state value function."
   ]
  },
  {
   "cell_type": "markdown",
   "metadata": {},
   "source": [
    "3.Experiment"
   ]
  },
  {
   "cell_type": "markdown",
   "metadata": {},
   "source": [
    "1. Deterministic vs Stochastic\n",
    "    - all states except terminal states have the same value 1 in the deterministic environment. if policy is optimal, regardless of the state, they will reach the goal. and then, they get goal reward. but in the stochastic environment, even though policy is optimal, the agent can not reach the goal."
   ]
  },
  {
   "cell_type": "code",
   "execution_count": 7,
   "metadata": {},
   "outputs": [
    {
     "data": {
      "image/png": "[encoded data removed]",
      "text/plain": [
       "<Figure size 432x288 with 1 Axes>"
      ]
     },
     "metadata": {
      "needs_background": "light"
     },
     "output_type": "display_data"
    }
   ],
   "source": [
    "det_case = DP(dynamic=\"deterministic\",discount_factor=0.99)\n",
    "det_case.run()"
   ]
  },
  {
   "cell_type": "code",
   "execution_count": 8,
   "metadata": {
    "scrolled": true
   },
   "outputs": [
    {
     "data": {
      "image/png": "[encoded data removed]",
      "text/plain": [
       "<Figure size 432x288 with 1 Axes>"
      ]
     },
     "metadata": {
      "needs_background": "light"
     },
     "output_type": "display_data"
    }
   ],
   "source": [
    "det_case = DP(dynamic=\"stochastic\")\n",
    "det_case.run()"
   ]
  },
  {
   "cell_type": "markdown",
   "metadata": {},
   "source": [
    "2. low theta vs high theta :policy iteration\n",
    "    - theta means that the precision of policy evaluation. if theta is high, the total calucation of policy evaluation may be increased but lead to robustness of training. here is my experiment\n",
    "    1. theta = 0.1\n",
    "    2. theta = 0.01\n",
    "    3. theta = 0.0001"
   ]
  },
  {
   "cell_type": "code",
   "execution_count": 9,
   "metadata": {
    "scrolled": true
   },
   "outputs": [
    {
     "data": {
      "image/png": "[encoded data removed]",
      "text/plain": [
       "<Figure size 432x288 with 1 Axes>"
      ]
     },
     "metadata": {
      "needs_background": "light"
     },
     "output_type": "display_data"
    }
   ],
   "source": [
    "low_theta = DP(theta=0.1)\n",
    "low_theta.run()"
   ]
  },
  {
   "cell_type": "code",
   "execution_count": 10,
   "metadata": {},
   "outputs": [
    {
     "data": {
      "image/png": "[encoded data removed]",
      "text/plain": [
       "<Figure size 432x288 with 1 Axes>"
      ]
     },
     "metadata": {
      "needs_background": "light"
     },
     "output_type": "display_data"
    }
   ],
   "source": [
    "mid_theta = DP(theta=0.01)\n",
    "mid_theta.run()"
   ]
  },
  {
   "cell_type": "code",
   "execution_count": 11,
   "metadata": {
    "scrolled": true
   },
   "outputs": [
    {
     "data": {
      "image/png": "[encoded data removed]",
      "text/plain": [
       "<Figure size 432x288 with 1 Axes>"
      ]
     },
     "metadata": {
      "needs_background": "light"
     },
     "output_type": "display_data"
    }
   ],
   "source": [
    "high_theta = DP(theta=0.0001)\n",
    "high_theta.run()"
   ]
  },
  {
   "cell_type": "markdown",
   "metadata": {},
   "source": [
    "This result shows that if theta is too low, then the training can be unstable."
   ]
  },
  {
   "cell_type": "markdown",
   "metadata": {},
   "source": [
    "3. fluctuation\n",
    "    - you can already notice that in experiment 1, I set the discount factor 0.99 if the dynamic is deterministic. Actually, optimal policy is a collection of optimal policy set. In my code, policy is fluctuating between two optimal policy set, A, B. but  B belongs to A. so this flucutation can no be solved. To prevent this fluctuation, I set the discount factor 0.99, and this leads to the policy converge to A which include policy B."
   ]
  }
 ],
 "metadata": {
  "kernelspec": {
   "display_name": "Python 3",
   "language": "python",
   "name": "python3"
  },
  "language_info": {
   "codemirror_mode": {
    "name": "ipython",
    "version": 3
   },
   "file_extension": ".py",
   "mimetype": "text/x-python",
   "name": "python",
   "nbconvert_exporter": "python",
   "pygments_lexer": "ipython3",
   "version": "3.6.12"
  }
 },
 "nbformat": 4,
 "nbformat_minor": 4
}
